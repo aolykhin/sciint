{
 "cells": [
  {
   "cell_type": "markdown",
   "metadata": {},
   "source": [
    "# PDF Image Extraction Experimental notebook"
   ]
  },
  {
   "cell_type": "markdown",
   "metadata": {},
   "source": [
    "Before running this notebook make sure to build the pdf-content-extraction docker\n",
    "```\n",
    "     $ cd docker && ./build\n",
    "```\n",
    "\n",
    "\n",
    "During the experimental setup all PDF files from the dataset will be copy to a temporary\n",
    "folder, named as `pdfs`, and all files will be renamed according to the PDF-KEY in the\n",
    "`pdf-image-experimental-setup.json`.\n",
    "\n",
    "Inside the JSON file, you will find the following structure:\n",
    "```\n",
    "PDF-KEY: {\n",
    "  'dataset_path': 'dataset/path_to_pdf_file/.../pdf_file.pdf',\n",
    "  'number_of_original_figures': n <int>,\n",
    "  'original_figures': {'fig1': 'dataset/path_to_pdf_figure_1/fig1.<ext>',\n",
    "                       'fig2': 'dataset/path_to_pdf_figure_2/fig2.<ext>',\n",
    "                        ...\n",
    "                       'figN': 'dataset/path_to_pdf_figure_N/figN.<ext>'\n",
    "}\n",
    "```\n",
    "\n",
    "\n",
    "This notebook uses the script `run.sh` to extract the image from a PDF file\n"
   ]
  },
  {
   "cell_type": "code",
   "execution_count": 4,
   "metadata": {},
   "outputs": [],
   "source": [
    "# Import Library\n",
    "from glob import glob\n",
    "import shutil\n",
    "import json\n",
    "import subprocess\n",
    "import os\n",
    "from tqdm.notebook import tqdm"
   ]
  },
  {
   "cell_type": "code",
   "execution_count": 2,
   "metadata": {},
   "outputs": [],
   "source": [
    "def extract_image(pdf_file, output_path='.'):\n",
    "    cmd = f'./run.sh {pdf_file} {output_path}'\n",
    "    result = subprocess.run(cmd,shell=True,stdout=subprocess.PIPE)\n",
    "    return result.stdout.decode('utf-8')"
   ]
  },
  {
   "cell_type": "markdown",
   "metadata": {},
   "source": [
    "## Testing the extraction for samples file"
   ]
  },
  {
   "cell_type": "code",
   "execution_count": 3,
   "metadata": {},
   "outputs": [
    {
     "name": "stdout",
     "output_type": "stream",
     "text": [
      "sample_1.pdf\n",
      "/INPUT/sample_1.pdf\n",
      "Extraction Done!\n",
      "\n",
      "sample_2.pdf\n",
      "/INPUT/sample_2.pdf\n",
      "Extraction Done!\n",
      "\n"
     ]
    }
   ],
   "source": [
    "# Creates the folder test\n",
    "os.makedirs('test/')\n",
    "# Run simple tests\n",
    "sample_1 = extract_image('sample_1.pdf','test/')\n",
    "print(sample_1)\n",
    "sample_2 = extract_image('sample_2.pdf','test/')\n",
    "print(sample_2)"
   ]
  },
  {
   "cell_type": "markdown",
   "metadata": {},
   "source": [
    "# Experiment setup"
   ]
  },
  {
   "cell_type": "code",
   "execution_count": null,
   "metadata": {},
   "outputs": [],
   "source": [
    "# Load the json file to a variable\n",
    "with open('pdf-image-experimental-setup.json','r') as json_pointer:\n",
    "    exp_setup = json.load(json_pointer)"
   ]
  },
  {
   "cell_type": "code",
   "execution_count": null,
   "metadata": {},
   "outputs": [],
   "source": [
    "# Creates the folder pdfs\n",
    "os.makedirs('pdfs')"
   ]
  },
  {
   "cell_type": "code",
   "execution_count": null,
   "metadata": {},
   "outputs": [],
   "source": [
    "# Copy All files to a temporary folder\n",
    "pdfs = []\n",
    "total_docs = len(exp_setup)\n",
    "for keyname, value in tqdm(exp_setup.items(), total=total_docs):\n",
    "    pdf_keyname = f'pdfs/{keyname}.pdf'\n",
    "    src_name = value['dataset_path']\n",
    "    shutil.copy(src_name,pdf_keyname)\n",
    "    pdfs.append(pdf_keyname)"
   ]
  },
  {
   "cell_type": "markdown",
   "metadata": {},
   "source": [
    "# Run Method"
   ]
  },
  {
   "cell_type": "code",
   "execution_count": null,
   "metadata": {},
   "outputs": [],
   "source": [
    "# Extracte figures from the pdfs at ./pdfs\n",
    "for pdf_index, pdf in enumerate(pdfs,start=1):\n",
    "    extract_image(pdf)\n",
    "    print(f\"Copying {copy_index} / {total_docs}\",end='\\r',flush=True)\n",
    "print('\\nDone')"
   ]
  }
 ],
 "metadata": {
  "kernelspec": {
   "display_name": "Python 3",
   "language": "python",
   "name": "python3"
  },
  "language_info": {
   "codemirror_mode": {
    "name": "ipython",
    "version": 3
   },
   "file_extension": ".py",
   "mimetype": "text/x-python",
   "name": "python",
   "nbconvert_exporter": "python",
   "pygments_lexer": "ipython3",
   "version": "3.6.10"
  }
 },
 "nbformat": 4,
 "nbformat_minor": 4
}
