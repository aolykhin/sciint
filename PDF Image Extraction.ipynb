{
 "cells": [
  {
   "cell_type": "markdown",
   "metadata": {},
   "source": [
    "# PDF Image Extraction Experimental notebook"
   ]
  },
  {
   "cell_type": "markdown",
   "metadata": {},
   "source": [
    "---\n",
    "Author: Phillipe Cardenuto ( RECOD - UNICAMP)\n",
    "\n",
    "email: phillipe.cardenuto@ic.unicamp.br\n",
    "\n",
    "---\n",
    "\n",
    "## Instructions\n",
    "\n",
    "Before running this notebook make sure to build the pdf-content-extraction docker\n",
    "```\n",
    "     $ cd docker && ./build.sh\n",
    "```\n",
    "\n",
    "\n",
    "During the experimental setup all PDF files from the dataset will be copy to a temporary\n",
    "folder, named as `pdfs`, and all files will be renamed according to the PDF-KEY in the\n",
    "`pdf-image-experimental-setup.json`.\n",
    "\n",
    "Inside the JSON file, you will find the following structure:\n",
    "```\n",
    "PDF-KEY: {\n",
    "  'Watermark' : <bool> # Indicates if the paper has a Retraction Watermark\n",
    "  'pdf_path': 'dataset/path_to_pdf_file/.../pdf_file.pdf',\n",
    "  'original_figures': {\n",
    "                  'fig1': {\n",
    "                     fig_path: 'dataset/path_to_pdf_figure_1/fig1.<ext>',\n",
    "                     bbox_loc: {'p': <int>, 'x0': <int>, 'x1': <int>, 'y0': <int>, 'y1': <int>}\n",
    "                       }\n",
    "                         ...\n",
    "                   'fign': {\n",
    "                     fig_path: 'dataset/path_to_pdf_figure_n/fign.<ext>',\n",
    "                     bbox_loc: {'p': <int>, 'x0': <int>, 'x1': <int>, 'y0': <int>, 'y1': <int>}\n",
    "                        }\n",
    "                         \n",
    "                     }\n",
    "}\n",
    "```\n",
    "\n",
    "Warning:\n",
    "-------\n",
    "\n",
    "This notebook uses the script `run_image_extraction.sh` to extract the image from a PDF file\n",
    "\n",
    "\n",
    "Make sure to have this file in the same directory of this notebook\n",
    "\n",
    "To Decrypt the PDFs file this notebook use an environment file named as '.env'.\n",
    "\n",
    "Make sure to create this file in the same directory of this notebook, and include the following line, changing \\<password\\> by the real password\n",
    "```bash\n",
    "PDF_PASSWORD=<password>\n",
    "```\n"
   ]
  },
  {
   "cell_type": "markdown",
   "metadata": {},
   "source": [
    "# Requirements"
   ]
  },
  {
   "cell_type": "markdown",
   "metadata": {},
   "source": [
    "You shouldn't have any issue after install the following\n",
    "packages with pip\n",
    "```\n",
    "tqdm\n",
    "scikit-image>=0.16\n",
    "opencv-python>=3\n",
    "python-dotenv\n",
    "pymupdf  <-- used to decrypt pdf\n",
    "```"
   ]
  },
  {
   "cell_type": "markdown",
   "metadata": {},
   "source": [
    "# Code"
   ]
  },
  {
   "cell_type": "code",
   "execution_count": 4,
   "metadata": {},
   "outputs": [],
   "source": [
    "# Import Library\n",
    "from glob import glob\n",
    "import shutil\n",
    "import json\n",
    "import subprocess\n",
    "import os\n",
    "import imghdr\n",
    "from dotenv import load_dotenv\n",
    "import fitz\n",
    "# Some images were downloaded on  webp format\n",
    "# We use opencv to convert them to png format\n",
    "import cv2\n",
    "from tqdm.notebook import tqdm\n",
    "from tqdm.contrib.concurrent import process_map"
   ]
  },
  {
   "cell_type": "code",
   "execution_count": 2,
   "metadata": {},
   "outputs": [],
   "source": [
    "def save_decrypted_pdf(src_name, dest_name):\n",
    "    \"\"\"\n",
    "    Save a decrypted version of a pdf in 'dest_name'\n",
    "    Make sure to have a .env file with the password on it.\n",
    "    \"\"\"\n",
    "    doc = fitz.open(src_name)\n",
    "    if doc.isEncrypted:\n",
    "        load_dotenv()\n",
    "        pdf_password = os.getenv('PDF_PASSWORD')\n",
    "        if pdf_password is None:\n",
    "            raise EnvironmentError(\"The password of the PDFs weren't correct insert in the '.env' file\\n\" +\n",
    "                           \"Create a file named as '.env' and include the following line:\\n\" +\n",
    "                            \"PDF_PASSWORD=<password>\")\n",
    "        doc.authenticate(pdf_password)\n",
    "        doc.save(dest_name)\n",
    "    else:\n",
    "        doc.save(dest_name)\n",
    "def extract_image(pdf_file, output_path='.'):\n",
    "    cmd = f'./run_image_extraction.sh {pdf_file} {output_path}'\n",
    "    result = subprocess.run(cmd,shell=True,stdout=subprocess.PIPE)\n",
    "    return result.stdout.decode('utf-8')\n",
    "def image_extension_correction(fig):\n",
    "    \"\"\"\n",
    "    Some images were downloaded on  webp format\n",
    "    We use opencv to convert them to png format\n",
    "    \"\"\"\n",
    "    # Get img extension name\n",
    "    ext = imghdr.what(fig)\n",
    "    \n",
    "    # If imghdr was not able to get the extension\n",
    "    if ext is None:\n",
    "        return fig\n",
    "    \n",
    "    if ext == \"webp\":\n",
    "        # Convert image to png due to error with io.imread\n",
    "        img = cv2.imread(fig)\n",
    "        write_name = fig[:fig.rfind('.')] +\".png\" \n",
    "        cv2.imwrite(write_name,img)\n",
    "        os.remove(fig)\n",
    "        return write_name\n",
    "    \n",
    "    write_name = fig[:fig.rfind('.')] +\".\"+ ext\n",
    "    os.rename(fig,write_name)\n",
    "    return write_name"
   ]
  },
  {
   "cell_type": "markdown",
   "metadata": {},
   "source": [
    "## Testing the extraction for samples file"
   ]
  },
  {
   "cell_type": "code",
   "execution_count": 3,
   "metadata": {},
   "outputs": [
    {
     "name": "stdout",
     "output_type": "stream",
     "text": [
      "sample_1.pdf\n",
      "/INPUT/sample_1.pdf\n",
      "Extraction Done!\n",
      "\n",
      "sample_2.pdf\n",
      "/INPUT/sample_2.pdf\n",
      "Extraction Done!\n",
      "\n"
     ]
    }
   ],
   "source": [
    "# Creates the folder test\n",
    "os.makedirs('test/')\n",
    "# Run simple tests\n",
    "sample_1 = extract_image('sample_1.pdf','test/')\n",
    "print(sample_1)\n",
    "sample_2 = extract_image('sample_2.pdf','test/')\n",
    "print(sample_2)"
   ]
  },
  {
   "cell_type": "markdown",
   "metadata": {},
   "source": [
    "# Experiment setup"
   ]
  },
  {
   "cell_type": "code",
   "execution_count": 66,
   "metadata": {},
   "outputs": [],
   "source": [
    "# Load the json file to a variable\n",
    "with open('pdf-image-experimental-setup.json','r') as json_pointer:\n",
    "    exp_setup = json.load(json_pointer)"
   ]
  },
  {
   "cell_type": "code",
   "execution_count": 69,
   "metadata": {},
   "outputs": [
    {
     "data": {
      "application/vnd.jupyter.widget-view+json": {
       "model_id": "47072cfefb3741eaa70e8517ed51f90c",
       "version_major": 2,
       "version_minor": 0
      },
      "text/plain": [
       "HBox(children=(FloatProgress(value=0.0, max=315.0), HTML(value='')))"
      ]
     },
     "metadata": {},
     "output_type": "display_data"
    },
    {
     "name": "stdout",
     "output_type": "stream",
     "text": [
      "\n"
     ]
    }
   ],
   "source": [
    "# Creates the folder pdfs\n",
    "os.makedirs('pdfs',exist_ok=True)\n",
    "\n",
    "# Copy All files to a temporary folder\n",
    "pdfs = []\n",
    "total_docs = len(exp_setup)\n",
    "for keyname, value in tqdm(exp_setup.items(), total=total_docs):\n",
    "    \n",
    "    # Copy PDF to path pdfs with the name of its ID\n",
    "    pdf_keyname = f'pdfs/{keyname}.pdf'\n",
    "    src_name = value['pdf_path']\n",
    "    # Save a decrypted version of the pdf\n",
    "    save_decrypted_pdf(src_name,pdf_keyname)\n",
    "    \n",
    "    pdfs.append(pdf_keyname)\n",
    "    \n",
    "    # Copy PDF figures to path figures/<PDF_ID>/<figname>\n",
    "    fig_dest = f'figures/{keyname}'\n",
    "    os.makedirs(fig_dest,exist_ok=True)\n",
    "    for fig_key, fig_value in value['original_figures'].items():\n",
    "        dest = fig_dest+\"/\"+ os.path.basename(fig_value['fig_path'])\n",
    "        shutil.copy(fig_value['fig_path'], dest)\n",
    "        image_extension_correction(dest)\n",
    "    "
   ]
  },
  {
   "cell_type": "markdown",
   "metadata": {},
   "source": [
    "# Run Method"
   ]
  },
  {
   "cell_type": "code",
   "execution_count": 70,
   "metadata": {},
   "outputs": [
    {
     "data": {
      "application/vnd.jupyter.widget-view+json": {
       "model_id": "ea90fd3138ac42cd8a240d392768e0de",
       "version_major": 2,
       "version_minor": 0
      },
      "text/plain": [
       "HBox(children=(FloatProgress(value=0.0, max=315.0), HTML(value='')))"
      ]
     },
     "metadata": {},
     "output_type": "display_data"
    },
    {
     "name": "stdout",
     "output_type": "stream",
     "text": [
      "\n"
     ]
    }
   ],
   "source": [
    "# Extracte figures from the pdfs at ./pdfs\n",
    "# messages carry all outputs messages of running method\n",
    "messages = process_map(extract_image,pdfs)"
   ]
  },
  {
   "cell_type": "markdown",
   "metadata": {},
   "source": [
    "# Evaluate Method"
   ]
  },
  {
   "cell_type": "code",
   "execution_count": 71,
   "metadata": {},
   "outputs": [],
   "source": [
    "# import modules to evaluate\n",
    "from skimage import io\n",
    "from skimage.color import gray2rgb, rgb2gray, rgba2rgb\n",
    "from skimage.transform import resize\n",
    "from skimage.metrics import structural_similarity as ssim\n",
    "import os\n",
    "from glob import glob\n",
    "import numpy as np "
   ]
  },
  {
   "cell_type": "markdown",
   "metadata": {},
   "source": [
    "# Define SSIM function"
   ]
  },
  {
   "cell_type": "markdown",
   "metadata": {},
   "source": [
    "## Declare Auxilary function and parameters for evaluation"
   ]
  },
  {
   "cell_type": "code",
   "execution_count": 102,
   "metadata": {},
   "outputs": [],
   "source": [
    "MATCH_THRESH = 0.55\n",
    "USE_CW_SSIM = True\n",
    "USE_ORIGINAL_SIZE = False\n",
    "RESIZE = (128, 128)\n",
    "def computeSSIM(resImage, dataImage):\n",
    "    \"\"\"\n",
    "    This function computes the ssim score given the two images. \n",
    "    Note that, if the shape of the two images don't match, \n",
    "    it will resize the result image to the same size as data image. \n",
    "\n",
    "    Params:     \n",
    "        resImage: 2d numpy array\n",
    "        dataImage: 2d numpy array\n",
    "    Return: \n",
    "        score: float or None\n",
    "    \"\"\"\n",
    "    if resImage is None or dataImage is None: \n",
    "        return None\n",
    "    \n",
    "    if len(resImage.shape) != len(dataImage.shape): # color vs. gray\n",
    "        if len(resImage.shape) == 2 and len(dataImage.shape) == 3: \n",
    "            resImage = gray2rgb(resImage)\n",
    "        elif len(resImage.shape) == 3 and len(dataImage.shape) == 2: \n",
    "            resImage = rgb2gray(resImage)\n",
    "        else:                \n",
    "            return None\n",
    "        \n",
    "    if dataImage.shape[-1] == 4:\n",
    "            dataImage = rgba2rgb(dataImage)\n",
    "    if resImage.shape[-1] == 4:\n",
    "            resImage = rgba2rgb(resImage)\n",
    "    \n",
    "    if USE_ORIGINAL_SIZE and not (np.array(resImage.shape) == np.array(dataImage.shape)).all(): # size \n",
    "        h, w = dataImage.shape[:2]\n",
    "        resImage = cv2.resize(resImage, (w, h), interpolation=cv2.INTER_CUBIC)\n",
    "    elif not USE_ORIGINAL_SIZE: \n",
    "        resImage = cv2.resize(resImage, RESIZE, interpolation=cv2.INTER_CUBIC)\n",
    "        dataImage = cv2.resize(dataImage, RESIZE, interpolation=cv2.INTER_CUBIC)\n",
    "    return ssim(resImage, dataImage, multichannel=len(dataImage.shape) == 3)\n",
    "\n",
    "def get_fignumber(fig):\n",
    "    return os.path.basename(fig).split(\".\")[0]\n",
    "\n",
    "def get_loc_from_fig_path(fig_path):\n",
    "    fig_path = os.path.basename(fig_path)\n",
    "    fig_path = fig_path.replace(\"--\",'-')\n",
    "    info = fig_path.split('-')\n",
    "    return {\n",
    "        'p': int(info[1]),\n",
    "        'x0': int(float(info[3])),\n",
    "        'y0': int(float(info[5])),\n",
    "        'x1': int(float(info[7])),\n",
    "        'y1': int(float(info[9]))\n",
    "    }\n",
    "def has_intersection(a, b):\n",
    "    \"\"\"\n",
    "    Verify if the inputs regions has any intersection\n",
    "    \"\"\"\n",
    "    x = max(a[0], b[0])\n",
    "    y = max(a[1], b[1])\n",
    "    w = min(a[0] + a[2], b[0] + b[2]) - x\n",
    "    h = min(a[1] + a[3], b[1] + b[3]) - y\n",
    "    if w < 0 or h < 0:\n",
    "        return False\n",
    "    return True\n",
    "\n",
    "def check_intersection(loc_annotation, loc_extraction):\n",
    "    \"\"\"\n",
    "    Check if the image from the annotation has intersection\n",
    "    with the extracted image\n",
    "    \"\"\"\n",
    "    if int(loc_annotation['p']) != int(loc_extraction['p']):\n",
    "        return False\n",
    "    \n",
    "    bbox_extraction = (int(loc_extraction['x0']),\n",
    "                       int(loc_extraction['y0']),\n",
    "                       int(loc_extraction['x1']),\n",
    "                       int(loc_extraction['y1']))\n",
    "    \n",
    "    bbox_annotation = (int(loc_annotation['x0']),\n",
    "                       int(loc_annotation['y0']),\n",
    "                       int(loc_annotation['x1']),\n",
    "                       int(loc_annotation['y1']))\n",
    "    return has_intersection(bbox_extraction, bbox_annotation)"
   ]
  },
  {
   "cell_type": "markdown",
   "metadata": {},
   "source": [
    "# Run Evaluation loop\n",
    "\n",
    "Evaluate the image extraction for each PDF from the experimental setup\n",
    "\n",
    "All the pdf_scores will be stored in a json format carrying\n",
    "```\n",
    "PDF-INDEX{\n",
    "\n",
    "    'mean_ssim': <float> # The mean of all SSIM scores from of each figure\n",
    "    'std_ssim': <float> # Standard deviation of all SSIM scores from of each figure\n",
    "    'fig1': { 'match': <path_to_img_extracted>  #path to image that matched with fig1\n",
    "              'score': <float>    # SSIM score between fig1 and its match\n",
    "            }\n",
    "    ...\n",
    "    'figN': {\n",
    "            'match': <path_to_img_extracted>\n",
    "            'score': <float>\n",
    "        }\n",
    "}\n",
    "```"
   ]
  },
  {
   "cell_type": "code",
   "execution_count": 116,
   "metadata": {},
   "outputs": [
    {
     "data": {
      "application/vnd.jupyter.widget-view+json": {
       "model_id": "032d6fe792564d378702a3a8956852ef",
       "version_major": 2,
       "version_minor": 0
      },
      "text/plain": [
       "HBox(children=(FloatProgress(value=0.0, max=315.0), HTML(value='')))"
      ]
     },
     "metadata": {},
     "output_type": "display_data"
    },
    {
     "name": "stderr",
     "output_type": "stream",
     "text": [
      "/home/jcardenuto/anaconda3/lib/python3.6/site-packages/ipykernel_launcher.py:39: UserWarning: Inputs have mismatched dtype.  Setting data_range based on im1.dtype.\n",
      "/home/jcardenuto/anaconda3/lib/python3.6/site-packages/skimage/metrics/_structural_similarity.py:108: UserWarning: Inputs have mismatched dtype.  Setting data_range based on im1.dtype.\n",
      "  im2[..., ch], **args)\n",
      "/home/jcardenuto/anaconda3/lib/python3.6/site-packages/skimage/external/tifffile/tifffile.py:2618: RuntimeWarning: py_decodelzw encountered unexpected end of stream\n",
      "  strip = decompress(strip)\n"
     ]
    },
    {
     "name": "stdout",
     "output_type": "stream",
     "text": [
      "\n"
     ]
    }
   ],
   "source": [
    "# Intialize pdf_scores\n",
    "pdf_scores = {}\n",
    "\n",
    "# loop all result images \n",
    "for pdf_id in tqdm(exp_setup.keys()): \n",
    "    \n",
    "    # Load originals and extracted imgs paths \n",
    "    xfigs = glob(f\"xfigs/{pdf_id}/*\")\n",
    "    orig_figs = sorted(glob(f\"figures/{pdf_id}/*\"))\n",
    "    \n",
    "    # Initialize pdf_score dict for pdf_id\n",
    "    pdf_scores[pdf_id] = { get_fignumber(fig): {\"match\": \"\", 'score': 0}\n",
    "                          for fig in orig_figs\n",
    "                         }\n",
    "    \n",
    "    # if the method does't extract anything                   \n",
    "    if len(xfigs)==0:\n",
    "        pdf_scores[pdf_id]['mean_ssim'] = 0\n",
    "        pdf_scores[pdf_id]['std_ssim'] = 0\n",
    "        continue\n",
    "        \n",
    "    # Load extracted figs using list of tuples (img, path)\n",
    "    xfigs_xpath = [(io.imread(xfig),xfig) for xfig in xfigs]\n",
    "\n",
    "    # compare each original figure with all extracted images\n",
    "    for orig_path in orig_figs: \n",
    "        orig = io.imread(orig_path)\n",
    "        orig_fig_number = get_fignumber(orig_path)\n",
    "        \n",
    "        # get the figure bbox (page,x0,y0,x1,y1)\n",
    "        orig_fig_loc = exp_setup[pdf_id]['original_figures'][orig_fig_number]['bbox_loc']\n",
    "        \n",
    "        # Initialize final score for the image\n",
    "        final_score = 0\n",
    "        final_match = \"\"\n",
    "        \n",
    "        # Run through all xfigs, trying a match with the orig_fig\n",
    "        for xfig, xpath  in xfigs_xpath:\n",
    "            \n",
    "            xfig_loc = get_loc_from_fig_path(xpath)\n",
    "            # If it has a location match coumpute SSIM\n",
    "            if check_intersection(orig_fig_loc, xfig_loc):\n",
    "                score = computeSSIM(xfig, orig)\n",
    "                \n",
    "                if score is not None and score > final_score: \n",
    "                    final_score = score\n",
    "                    final_match = xpath\n",
    "                \n",
    "        # Update score info\n",
    "        pdf_scores[pdf_id][get_fignumber(orig_path)]['match'] = final_match\n",
    "        pdf_scores[pdf_id][get_fignumber(orig_path)]['score'] = final_score\n",
    "    \n",
    "    # Compute a the mean and std ssim for the pdf\n",
    "    scores = np.array([ pdf_scores[pdf_id][fig]['score'] for fig in pdf_scores[pdf_id].keys()]) *100\n",
    "    pdf_scores[pdf_id]['mean_ssim'] = np.mean(scores)\n",
    "    pdf_scores[pdf_id]['std_ssim'] = np.std(scores)"
   ]
  },
  {
   "cell_type": "markdown",
   "metadata": {},
   "source": [
    "# Plot Score"
   ]
  },
  {
   "cell_type": "code",
   "execution_count": 160,
   "metadata": {},
   "outputs": [
    {
     "data": {
      "image/png": "[encoded data removed]",
      "text/plain": [
       "<matplotlib.figure.Figure at 0x7f3b26cfa4a8>"
      ]
     },
     "metadata": {
      "needs_background": "light"
     },
     "output_type": "display_data"
    },
    {
     "name": "stdout",
     "output_type": "stream",
     "text": [
      "Score: 62 +/- 35\n"
     ]
    }
   ],
   "source": [
    "y = np.array(means)\n",
    "x = np.arange(len(means))\n",
    "\n",
    "plt.figure(figsize=(15,5))\n",
    "# plt.hist(y, bins=np.arange(0,100,1),facecolor='#266DD3',edgecolor='black')\n",
    "plt.axhline(y.mean(), color='#CFB3CD', linestyle='dashed', linewidth=3,label=f'Average Score: {y.mean():.2f}')\n",
    "plt.bar(x, means, facecolor='#266DD3',edgecolor='black')\n",
    "# plt.scatter(x,means)\n",
    "plt.title(\"Result SSIM per PDF\")\n",
    "plt.xlabel('PDF Index')\n",
    "plt.ylabel(\"SSIM Scores\")\n",
    "plt.legend(fancybox=True, framealpha=0.6, borderpad=1)\n",
    "\n",
    "plt.show()\n",
    "\n",
    "print(f\"Score: {y.mean():.0f} +/- {y.std():.0f}\")"
   ]
  }
 ],
 "metadata": {
  "kernelspec": {
   "display_name": "Python (XDATA)",
   "language": "python",
   "name": "xdata"
  },
  "language_info": {
   "codemirror_mode": {
    "name": "ipython",
    "version": 3
   },
   "file_extension": ".py",
   "mimetype": "text/x-python",
   "name": "python",
   "nbconvert_exporter": "python",
   "pygments_lexer": "ipython3",
   "version": "3.8.1"
  }
 },
 "nbformat": 4,
 "nbformat_minor": 4
}
