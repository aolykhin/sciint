{
 "cells": [
  {
   "cell_type": "markdown",
   "metadata": {},
   "source": [
    "# Generate Painels from the Annotations"
   ]
  },
  {
   "cell_type": "markdown",
   "metadata": {},
   "source": [
    "```\n",
    "Author: Phillipe Cardenuto (RECOD - UNICAMP)\n",
    "email: phillipe.cardenuto@gmail.com\n",
    "```\n",
    "\n",
    "This is an auxiliar notebook to generate the ground-truth images used on the Segmenation and Retrieval Tasks"
   ]
  },
  {
   "cell_type": "markdown",
   "metadata": {},
   "source": [
    "# Instructions\n",
    "In this notebook we use the bounding box annotations to create a panel mask image for each annotated data and to extracted its panels.\n",
    "\n",
    "### Enviroment\n",
    "To use this notebook make sure to have the following configurations installed:\n",
    "- python 3.6\n",
    "- opencv-python>=3\n",
    "- pillow >=7\n",
    "# Important\n",
    "Make sure to insert each downloaded figure in the same location as its 'figure-path' annotation in the JSON file\n",
    "\n",
    "The JSON is structured as following:\n",
    "``` json\n",
    "{\n",
    " <doi> :\n",
    "        {\n",
    "            'figures': \n",
    "                        {'fig1':\n",
    "                                {'figure-path': <dataset-figure-path>,\n",
    "                                  'panels': \n",
    "                                            {'000': {'x0': <int>, 'y0': <int>, 'x1': <int>, 'y1': <int>},\n",
    "                                             '001': {'x0': <int>, 'y0': <int>, 'x1': <int>, 'y1': <int>},\n",
    "                                              ....,\n",
    "                                             'NNN': {'x0': <int>, 'y0': <int>, 'x1': <int>, 'y1': <int>},\n",
    "                                            }\n",
    "                                 'groundtruth-path': <dataset-destination-path-gt>,\n",
    "                                 'figure-url': <original-url>\n",
    "                                },\n",
    "\n",
    "                            ...,\n",
    "                           'figN':   {'figure-path': <dataset-figure-path>,\n",
    "                                  'panels': \n",
    "                                            {'000': {'x0': <int>, 'y0': <int>, 'x1': <int>, 'y1': <int>},\n",
    "                                             '001': {'x0': <int>, 'y0': <int>, 'x1': <int>, 'y1': <int>},\n",
    "                                              ....,\n",
    "                                             'NNN': {'x0': <int>, 'y0': <int>, 'x1': <int>, 'y1': <int>},\n",
    "                                            }\n",
    "                                 'groundtruth-path': <dataset-destination-path-gt>,\n",
    "                                 'figure-url': <original-url>\n",
    "                                }\n",
    "                        }\n",
    "        }\n",
    "}\n",
    "```"
   ]
  },
  {
   "cell_type": "code",
   "execution_count": 1,
   "metadata": {},
   "outputs": [],
   "source": [
    "# Import cell\n",
    "import os\n",
    "from glob import glob\n",
    "import cv2\n",
    "import numpy as np\n",
    "from  PIL import Image, ImageDraw \n",
    "import json"
   ]
  },
  {
   "cell_type": "code",
   "execution_count": 2,
   "metadata": {},
   "outputs": [],
   "source": [
    "# Read Json annotation\n",
    "with open('figure-panel-segmentation.json','r') as js:\n",
    "    panel_annotations = json.load(js)"
   ]
  },
  {
   "cell_type": "code",
   "execution_count": 3,
   "metadata": {},
   "outputs": [],
   "source": [
    "def read_image(filename):\n",
    "    return np.array(Image.open(filename))\n",
    "def write_image(savename,img):\n",
    "    # create save dir\n",
    "    os.makedirs(os.path.dirname(savename),exist_ok=True)\n",
    "    # write image\n",
    "    pil_img = Image.fromarray(img)\n",
    "    pil_img.save(savename)\n",
    "\n",
    "\n",
    "def create_panel_mask(fig_annotation):\n",
    "    \n",
    "    # Open figure\n",
    "    figure = read_image(fig_annotation['figure-path'])\n",
    "    height, width= figure.shape[:2]\n",
    "    \n",
    "    # Create a image with the same size of figure\n",
    "    panels_mask = np.array(Image.new(\"P\",(width,height)))\n",
    "    \n",
    "    # Mark the region of each panel\n",
    "    for panel_name, panel in fig_annotation['panels'].items():\n",
    "        panels_mask[panel['x0']: panel['x1'], panel['y0']: panel['y1']] =  255\n",
    "\n",
    "    # Save panel_mask\n",
    "    if not os.path.isdir(os.path.dirname(fig_annotation['groundtruth-path'])):\n",
    "        os.makedirs(os.path.dirname(fig_annotation['groundtruth-path']))\n",
    "    # Write Panel Mask\n",
    "    write_image(fig_annotation['groundtruth-path'], panels_mask)\n",
    "    \n",
    "    # Save all cropped panels\n",
    "    for panel_name, panel in fig_annotation['panels'].items():\n",
    "        if len(figure.shape) > 2:\n",
    "            panel_img = figure[panel['x0']: panel['x1'], panel['y0']: panel['y1'],:]\n",
    "        else:\n",
    "            panel_img = figure[panel['x0']: panel['x1'], panel['y0']: panel['y1']]\n",
    "            \n",
    "        # Get panel save name\n",
    "        panel_save_name = fig_annotation['figure-path'].replace(\"figures/\",'figures-panels/')\n",
    "        panel_save_name = panel_save_name[:panel_save_name.rfind((\".\"))] + f\"_{panel_name}.png\"\n",
    "        \n",
    "        # Write Figure Panel\n",
    "        write_image(panel_save_name, panel_img)"
   ]
  },
  {
   "cell_type": "markdown",
   "metadata": {},
   "source": [
    "# Extracts Panels and Create Panels Mask"
   ]
  },
  {
   "cell_type": "code",
   "execution_count": 4,
   "metadata": {},
   "outputs": [],
   "source": [
    "for doi in panel_annotations.keys():\n",
    "    for _, fig_annotation in panel_annotations[doi]['figures'].items():\n",
    "        create_panel_mask(fig_annotation)"
   ]
  }
 ],
 "metadata": {
  "kernelspec": {
   "display_name": "Python (3.6)",
   "language": "python",
   "name": "py36"
  },
  "language_info": {
   "codemirror_mode": {
    "name": "ipython",
    "version": 3
   },
   "file_extension": ".py",
   "mimetype": "text/x-python",
   "name": "python",
   "nbconvert_exporter": "python",
   "pygments_lexer": "ipython3",
   "version": "3.6.12"
  }
 },
 "nbformat": 4,
 "nbformat_minor": 4
}
