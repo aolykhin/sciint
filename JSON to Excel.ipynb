{
 "cells": [
  {
   "cell_type": "markdown",
   "metadata": {},
   "source": [
    "# Organize Json metadata to Excel format"
   ]
  },
  {
   "cell_type": "markdown",
   "metadata": {},
   "source": [
    "**This notebook organizes the main fields from the metadata (scientific_integrity_dataset_v8.json) to a Excel format**\n"
   ]
  },
  {
   "cell_type": "code",
   "execution_count": 1,
   "metadata": {
    "collapsed": true
   },
   "outputs": [],
   "source": [
    "# Import Cell\n",
    "import json\n",
    "import pandas as pd\n",
    "from glob import glob\n",
    "import os, shutil"
   ]
  },
  {
   "cell_type": "code",
   "execution_count": 2,
   "metadata": {
    "collapsed": true
   },
   "outputs": [],
   "source": [
    "# Read the Json File\n",
    "with open(\"scientific-integrity-dataset-v8/scientific_integrity_dataset_v8.json\",'r') as f:\n",
    "    sciintv8 = json.load(f)"
   ]
  },
  {
   "cell_type": "code",
   "execution_count": 88,
   "metadata": {
    "collapsed": true
   },
   "outputs": [],
   "source": [
    "# Create a Header to the Excel Spreadsheet\n",
    "sciint_spreadsheet = pd.DataFrame(columns=[\n",
    "                     'Directory',\n",
    "                     'DOI',\n",
    "                     'Title',\n",
    "                     'Article Link',\n",
    "                     'Authors',\n",
    "                     'Cited By',\n",
    "                     'Copyright',\n",
    "                     'Publication Source',\n",
    "                     'Published Date',\n",
    "                     'Received Date',\n",
    "                     'Accepted Date',\n",
    "                     'Publisher',\n",
    "                     'Has Retraction/Correction',\n",
    "                     'Reason for Retreaction/Correction',\n",
    "                     'Retraction/Correction Notice Available',\n",
    "                     'Retraction/Correction DOI',\n",
    "                     'Source Image Available',\n",
    "                     'Supplmentary Material Available',\n",
    "                     ]\n",
    ")"
   ]
  },
  {
   "cell_type": "markdown",
   "metadata": {},
   "source": [
    "### Fill the Spreadsheet with the metadata"
   ]
  },
  {
   "cell_type": "code",
   "execution_count": 89,
   "metadata": {},
   "outputs": [],
   "source": [
    "index = 1\n",
    "for key, item in sciintv8.items():\n",
    "    new_entry = {}\n",
    "    \n",
    "    new_entry['Directory'] = key.replace('/',\"_\")\n",
    "    if item['doi']:\n",
    "        new_entry['DOI'] = item['doi']\n",
    "    else:\n",
    "        new_entry['DOI'] = '-'\n",
    "    new_entry['Title'] = ' '.join(item['title'].replace('\\n',' ').replace('\\t',' ').split())\n",
    "    new_entry['Article Link'] = item['article_url']\n",
    "    \n",
    "    authors = \"-\"\n",
    "    if item['authors']:\n",
    "        authors = ''\n",
    "        for author in item['authors']:\n",
    "            name = \"\"\n",
    "            if 'given' in author.keys():\n",
    "                name = author['given']\n",
    "            if 'family' in author.keys():\n",
    "                name = name +\" \" + author['family']\n",
    "                name = name.strip()\n",
    "            if authors:\n",
    "                authors = authors+\", \"+name\n",
    "            else:\n",
    "                authors = name\n",
    "        \n",
    "    new_entry['Authors'] = authors\n",
    "    new_entry['Cited By']  = item['cited_by']\n",
    "    if new_entry['Cited By'] == None:\n",
    "        new_entry['Cited By'] = '-'\n",
    "    new_entry['Copyright'] = item['copyright']\n",
    "    new_entry['Publication Source'] = item['publication_source']\n",
    "    if item['article_history']['published_date']:\n",
    "        new_entry['Published Date'] = item['article_history']['published_date'].replace('null','')\n",
    "    else:\n",
    "        new_entry['Published Date'] = '-'\n",
    "    if item['article_history']['received_date']:\n",
    "        new_entry['Received Date'] = item['article_history']['received_date']\n",
    "    else:\n",
    "        new_entry['Received Date'] = '-'\n",
    "    if  item['article_history']['accepted_date']:       \n",
    "        new_entry['Accepted Date'] = item['article_history']['accepted_date']\n",
    "    else:\n",
    "        new_entry['Accepted Date'] = ['-']\n",
    "    new_entry['Publisher'] = item['publisher']\n",
    "    \n",
    "    \n",
    "    \n",
    "    if 'retraction_correction_material' in item.keys():\n",
    "        new_entry['Has Retraction/Correction'] = 'Yes'\n",
    "        if  item['retraction_correction_material']['retraction_correction_reason']:\n",
    "            new_entry['Reason for Retreaction/Correction'] = item['retraction_correction_material']['retraction_correction_reason']\n",
    "        else:\n",
    "            new_entry['Reason for Retreaction/Correction'] = '-'\n",
    "        if item['retraction_correction_material']['retraction_correction_notice_txt'] or item['retraction_correction_material']['retraction_correction_notice_pdf_link'] :\n",
    "            new_entry['Retraction/Correction Notice Available'] = 'Yes'\n",
    "        else:\n",
    "            new_entry['Retraction/Correction Notice Available'] = 'No'\n",
    "        if item['retraction_correction_material']['retraction_correction_doi']:\n",
    "            new_entry['Retraction/Correction DOI'] = item['retraction_correction_material']['retraction_correction_doi']\n",
    "        else:\n",
    "             new_entry['Retraction/Correction DOI'] = '-'\n",
    "        \n",
    "    else:\n",
    "        new_entry['Has Retraction/Correction'] = 'No'\n",
    "        new_entry['Reason for Retreaction/Correction'] = '-'\n",
    "        new_entry['Retraction/Correction Notice Available'] = '-'\n",
    "        new_entry['Retraction/Correction DOI'] = '-'        \n",
    "    \n",
    "    if len(glob('scientific-integrity-dataset-v8/scientific-integrity-dataset-v8/'+key.replace('/',\"_\")+'/figures/*')) >= 1:\n",
    "        new_entry['Source Image Available'] = 'Yes'\n",
    "    else:\n",
    "        new_entry['Source Image Available'] = 'No'\n",
    "        \n",
    "    if len(glob('scientific-integrity-dataset-v8/scientific-integrity-dataset-v8/'+key.replace('/',\"_\")+'/supplementary/*')) >= 1:\n",
    "        new_entry['Supplmentary Material Available'] = 'Yes'\n",
    "    else:\n",
    "        new_entry['Supplmentary Material Available'] = 'Yes'\n",
    "    sciint_spreadsheet = sciint_spreadsheet.append(pd.DataFrame(new_entry, index=[index]))\n",
    "    index +=1\n",
    "    "
   ]
  },
  {
   "cell_type": "code",
   "execution_count": 90,
   "metadata": {},
   "outputs": [],
   "source": [
    "# Save to Excel SpreadSheet\n",
    "sciint_spreadsheet.sort_values(by=['Publisher','Published Date']).reset_index().drop(columns=['index']).to_excel(\"data_annotation.xls\")"
   ]
  }
 ],
 "metadata": {
  "kernelspec": {
   "display_name": "Python (PY3)",
   "language": "python",
   "name": "py3"
  },
  "language_info": {
   "codemirror_mode": {
    "name": "ipython",
    "version": 3
   },
   "file_extension": ".py",
   "mimetype": "text/x-python",
   "name": "python",
   "nbconvert_exporter": "python",
   "pygments_lexer": "ipython3",
   "version": "3.8.5"
  }
 },
 "nbformat": 4,
 "nbformat_minor": 2
}
