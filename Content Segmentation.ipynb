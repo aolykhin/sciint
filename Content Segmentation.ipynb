{
 "cells": [
  {
   "cell_type": "markdown",
   "metadata": {},
   "source": [
    "# Content Segmentation"
   ]
  },
  {
   "cell_type": "markdown",
   "metadata": {},
   "source": [
    "This notebook notebook evaluates the method of Satoshi Tsutsui, and David Crandall (2017)\\[https://github.com/apple2373/figure-separator] in a subset figures of our dataset. "
   ]
  },
  {
   "cell_type": "markdown",
   "metadata": {},
   "source": [
    "We make available [here](https://drive.google.com/file/d/1mkFs7zOjCAyjHBPqJP1jhl49kKvMmtC4/view?usp=sharing) an adapted version of FigureSeparator method, along with the ground-truth of the content segmentation"
   ]
  },
  {
   "cell_type": "markdown",
   "metadata": {},
   "source": [
    "# Instructions\n",
    "1. Download the files from this [here](https://drive.google.com/file/d/1mkFs7zOjCAyjHBPqJP1jhl49kKvMmtC4/view?usp=sharing)\n",
    "2. Unzip the files\n",
    "3. With a kernel python3.6, install the requirements from panel_extraction_src/requirements.txt\n",
    "4. Run the cells bellow"
   ]
  },
  {
   "cell_type": "markdown",
   "metadata": {},
   "source": [
    "----"
   ]
  },
  {
   "cell_type": "markdown",
   "metadata": {},
   "source": [
    "# Download and unzip model"
   ]
  },
  {
   "cell_type": "code",
   "execution_count": 54,
   "metadata": {},
   "outputs": [
    {
     "name": "stderr",
     "output_type": "stream",
     "text": [
      "File ‘content_segmentation.zip’ already there; not retrieving.\n"
     ]
    }
   ],
   "source": [
    "%%bash\n",
    "# Dowload and unzip groundtruth and model\n",
    "FILENAME='content_segmentation.zip'\n",
    "FILEID='1mkFs7zOjCAyjHBPqJP1jhl49kKvMmtC4'\n",
    "wget --load-cookies /tmp/cookies.txt -nc \\\n",
    "    \"https://docs.google.com/uc?export=download&confirm=$(wget --quiet --save-cookies /tmp/cookies.txt --keep-session-cookies --no-check-certificate \"https://docs.google.com/uc?export=download&id=$FILEID\" -O- | sed -rn 's/.*confirm=([0-9A-Za-z_]+).*/\\1\\n/p')&id=$FILEID\" \\\n",
    "    -O $FILENAME && rm -rf /tmp/cookies.txt\n",
    "unzip -nq $FILENAME\n"
   ]
  },
  {
   "cell_type": "markdown",
   "metadata": {},
   "source": [
    "# Import Cell"
   ]
  },
  {
   "cell_type": "code",
   "execution_count": 1,
   "metadata": {},
   "outputs": [],
   "source": [
    "import os\n",
    "from panel_extraction_src.PanelExtraction import PanelExtraction\n",
    "import numpy as np\n",
    "import cv2\n",
    "from glob import glob\n",
    "from PIL import Image\n",
    "from sklearn.metrics import jaccard_score\n",
    "import matplotlib.pyplot as plt\n",
    "# Remove warnings\n",
    "import warnings\n",
    "warnings.filterwarnings('ignore')\n",
    "# Initialize instance of PanelExtraction\n",
    "panel_extraction=PanelExtraction(\"panel_extraction_src/panel_extraction.pb\")\n",
    "# Clear output\n",
    "from IPython.display import clear_output\n",
    "clear_output()"
   ]
  },
  {
   "cell_type": "code",
   "execution_count": 6,
   "metadata": {},
   "outputs": [],
   "source": [
    "def create_panels_mask(img,panels):\n",
    "    \"\"\"\n",
    "    Create a maks image based on the panels location\n",
    "    \"\"\"\n",
    "    if \".gif\" in img:\n",
    "        img = np.array(Image.open(img))\n",
    "    else:\n",
    "        img = cv2.imread(img)\n",
    "    color = (255, 255, 255)\n",
    "    img = np.zeros_like(img)\n",
    "    for panel in panels:\n",
    "        start_point = (panel['x'],panel['y'])\n",
    "        end_point = (panel['x']+panel['w'], panel['y']+panel['h'])\n",
    "        img = cv2.rectangle(img, start_point, end_point, color, -1) \n",
    "    return img"
   ]
  },
  {
   "cell_type": "markdown",
   "metadata": {},
   "source": [
    "# Run Method for each selected figure"
   ]
  },
  {
   "cell_type": "code",
   "execution_count": 3,
   "metadata": {},
   "outputs": [],
   "source": [
    "figs = glob(\"selected_figures/*\")\n",
    "figs.sort()"
   ]
  },
  {
   "cell_type": "code",
   "execution_count": 4,
   "metadata": {},
   "outputs": [],
   "source": [
    "# Creates a folder to save all mask images resulting from \n",
    "# the panel extraction\n",
    "os.makedirs(\"panels_mask\", exist_ok=True)"
   ]
  },
  {
   "cell_type": "code",
   "execution_count": 9,
   "metadata": {},
   "outputs": [
    {
     "name": "stdout",
     "output_type": "stream",
     "text": [
      "Extracting 321 / 321\n",
      "Done\n"
     ]
    }
   ],
   "source": [
    "# For each figure apply the FigureSeparator method\n",
    "# and save the resulting mask\n",
    "total_figs = len(figs)\n",
    "for fig_index, fig in enumerate(figs,start=1):\n",
    "    # extracts the panels\n",
    "    panels = panel_extraction.extract(fig)\n",
    "    # create a maks image based on the panels location\n",
    "    mask = create_panels_mask(fig,panels)\n",
    "    \n",
    "    # Fix fig name\n",
    "    fig = fig.replace(\"selected_figures\",'panels_mask')\n",
    "    fig  = fig.split(\".\")[0] +\".png\"\n",
    "    \n",
    "    cv2.imwrite(fig,mask)\n",
    "        \n",
    "    \n",
    "    print(f\"Extracting {fig_index} / {total_figs}\",end='\\r',flush=True)\n",
    "    \n",
    "print('\\nDone')"
   ]
  },
  {
   "cell_type": "markdown",
   "metadata": {},
   "source": [
    "# Method Evaluation"
   ]
  },
  {
   "cell_type": "code",
   "execution_count": 5,
   "metadata": {},
   "outputs": [],
   "source": [
    "# Read all the ground-truth files and the gerated masks\n",
    "gt = sorted(glob(\"xp1_and_xp2/*\"))\n",
    "panels_mask = sorted(glob(\"panels_mask/*\"))\n",
    "if len(gt) != len(panels_mask):\n",
    "    raise \"The number of mask does not match with the number of gt\""
   ]
  },
  {
   "cell_type": "code",
   "execution_count": 48,
   "metadata": {},
   "outputs": [
    {
     "name": "stdout",
     "output_type": "stream",
     "text": [
      "Calculating Score 321 / 321\n",
      "Done\n"
     ]
    }
   ],
   "source": [
    "score = []\n",
    "total_figs = len(gt)\n",
    "for index in range(len(gt)):\n",
    "    # ground-truth\n",
    "    gt_mask = cv2.imread(gt[index],cv2.IMREAD_GRAYSCALE)\n",
    "    gt_mask[gt_mask>0] =1\n",
    "    gt_mask = gt_mask.flatten()\n",
    "    # predicted mask\n",
    "    pred_mask = cv2.imread(panels_mask[index],cv2.IMREAD_GRAYSCALE)\n",
    "    pred_mask[pred_mask>0] =1\n",
    "    pred_mask = pred_mask.flatten()\n",
    "    \n",
    "    score.append(jaccard_score(y_true=pred_mask, y_pred=gt_mask))\n",
    "    print(f\"Calculating Score {index+1} / {total_figs}\",end='\\r',flush=True)\n",
    "print('\\nDone')"
   ]
  },
  {
   "cell_type": "markdown",
   "metadata": {},
   "source": [
    "## Plot Result"
   ]
  },
  {
   "cell_type": "code",
   "execution_count": 49,
   "metadata": {},
   "outputs": [
    {
     "data": {
      "image/png": "[encoded data removed]",
      "text/plain": [
       "<matplotlib.figure.Figure at 0x7fcccf661518>"
      ]
     },
     "metadata": {
      "needs_background": "light"
     },
     "output_type": "display_data"
    }
   ],
   "source": [
    "y = np.array(score)*100\n",
    "x = np.arange(len(score))\n",
    "\n",
    "plt.figure(figsize=(10,10))\n",
    "plt.hist(y, bins=np.arange(0,100,10),facecolor='#266DD3',edgecolor='black')\n",
    "plt.axvline(y.mean(), color='#CFB3CD', linestyle='dashed', linewidth=3)\n",
    "plt.text(y.mean()+10, 60, 'Average Score: {:.2f}'.format(y.mean()))\n",
    "plt.title(\"Result\")\n",
    "plt.xlabel('Number of Figures with the same score')\n",
    "plt.ylabel(\"Jaccard Score\")\n",
    "plt.show()\n"
   ]
  },
  {
   "cell_type": "markdown",
   "metadata": {},
   "source": [
    "----"
   ]
  },
  {
   "cell_type": "markdown",
   "metadata": {},
   "source": [
    "# Check Agreement between the experts annotations\n"
   ]
  },
  {
   "cell_type": "code",
   "execution_count": 39,
   "metadata": {},
   "outputs": [],
   "source": [
    "# Read all the ground-truth from each expert\n",
    "xp1 = sorted(glob(\"xp1/*\"))\n",
    "xp2 = sorted(glob(\"xp2/*\"))\n",
    "if len(xp1) != len(xp2):\n",
    "    raise \"The number of ground-truth between the experts does not match\""
   ]
  },
  {
   "cell_type": "code",
   "execution_count": 50,
   "metadata": {},
   "outputs": [
    {
     "name": "stdout",
     "output_type": "stream",
     "text": [
      "Calculating Score 321 / 321\n",
      "Done\n"
     ]
    }
   ],
   "source": [
    "score = []\n",
    "total_figs = len(xp1)\n",
    "for index in range(len(xp1)):\n",
    "    # ground-truth\n",
    "    mask_xp1 = cv2.imread(xp1[index],cv2.IMREAD_GRAYSCALE)\n",
    "    mask_xp1[mask_xp1>0] =1\n",
    "    mask_xp1 = mask_xp1.flatten()\n",
    "    # predicted mask\n",
    "    mask_xp2 = cv2.imread(xp2[index],cv2.IMREAD_GRAYSCALE)\n",
    "    mask_xp2[mask_xp2>0] =1\n",
    "    mask_xp2 = mask_xp2.flatten()\n",
    "    \n",
    "    score.append(jaccard_score(mask_xp1, mask_xp2))\n",
    "    print(f\"Calculating Score {index+1} / {total_figs}\",end='\\r',flush=True)\n",
    "print('\\nDone')"
   ]
  },
  {
   "cell_type": "markdown",
   "metadata": {},
   "source": [
    "# Plot Experts Agreement"
   ]
  },
  {
   "cell_type": "code",
   "execution_count": 51,
   "metadata": {},
   "outputs": [
    {
     "data": {
      "image/png": "[encoded data removed]",
      "text/plain": [
       "<matplotlib.figure.Figure at 0x7fcccf674ba8>"
      ]
     },
     "metadata": {
      "needs_background": "light"
     },
     "output_type": "display_data"
    }
   ],
   "source": [
    "y = np.array(score)*100\n",
    "x = np.arange(len(score))\n",
    "\n",
    "plt.figure(figsize=(10,10))\n",
    "plt.hist(y, bins=np.arange(0,100,10),facecolor='#266DD3',edgecolor='black')\n",
    "plt.axvline(y.mean(), color='#CFB3CD', linestyle='dashed', linewidth=3)\n",
    "plt.text(y.mean()-30, 40, 'Average Score: {:.2f}'.format(y.mean()))\n",
    "plt.title(\"Experts Agreement\")\n",
    "plt.xlabel('Number of Figures with the same score')\n",
    "plt.ylabel(\"Jaccard Score\")\n",
    "plt.show()"
   ]
  }
 ],
 "metadata": {
  "kernelspec": {
   "display_name": "Python (panels)",
   "language": "python",
   "name": "panels"
  },
  "language_info": {
   "codemirror_mode": {
    "name": "ipython",
    "version": 3
   },
   "file_extension": ".py",
   "mimetype": "text/x-python",
   "name": "python",
   "nbconvert_exporter": "python",
   "pygments_lexer": "ipython3",
   "version": "3.6.10"
  }
 },
 "nbformat": 4,
 "nbformat_minor": 4
}
