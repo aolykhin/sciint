{
 "cells": [
  {
   "cell_type": "markdown",
   "metadata": {},
   "source": [
    "# PDF Caption Extraction Experimental Notebook"
   ]
  },
  {
   "cell_type": "markdown",
   "metadata": {},
   "source": [
    "---\n",
    "Authors: \n",
    "\n",
    "    Daniel Moreira ( CVRL - University of Notre Dame )\n",
    "\n",
    "    Phillipe Cardenuto ( RECOD - UNICAMP)\n",
    "\n",
    "---\n",
    "In this notebook we evaluate two aspects of the caption extraction\n",
    "\n",
    "**1. Figure match.**\n",
    "\n",
    "    In this experiment we measure the effectiveness of the method to\n",
    "    match the caption to the right Figure.\n",
    "      \n",
    "**2. Text similarity.**\n",
    "\n",
    "    Using the metric BERTScore [Zhang et al (2019)]  we measure the similarity between the\n",
    "    extracted text and the ground-truth.\n",
    "For the BERTScore, we use the implementation found at [this repository](https://github.com/Tiiiger/bert_score) associate with Zhang et al paper.   "
   ]
  },
  {
   "cell_type": "markdown",
   "metadata": {},
   "source": [
    "# Requirements"
   ]
  },
  {
   "cell_type": "markdown",
   "metadata": {},
   "source": [
    "You should not have any issue after install the following\n",
    "packages with pip ( or your favorite package manager )\n",
    "```\n",
    "tqdm\n",
    "bert-score\n",
    "pdfminer3k\n",
    "nltk\n",
    "numpy\n",
    "matplotlib\n",
    "```"
   ]
  },
  {
   "cell_type": "markdown",
   "metadata": {},
   "source": [
    "# Code"
   ]
  },
  {
   "cell_type": "code",
   "execution_count": 65,
   "metadata": {},
   "outputs": [
    {
     "name": "stderr",
     "output_type": "stream",
     "text": [
      "[nltk_data] Downloading package wordnet to\n",
      "[nltk_data]     /home/jcardenuto/nltk_data...\n",
      "[nltk_data]   Package wordnet is already up-to-date!\n",
      "[nltk_data] Downloading package stopwords to\n",
      "[nltk_data]     /home/jcardenuto/nltk_data...\n",
      "[nltk_data]   Package stopwords is already up-to-date!\n",
      "[nltk_data] Downloading package punkt to /home/jcardenuto/nltk_data...\n",
      "[nltk_data]   Package punkt is already up-to-date!\n"
     ]
    }
   ],
   "source": [
    "# Import libraries and download vocabulary\n",
    "import json, os\n",
    "\n",
    "from tqdm.notebook import tqdm\n",
    "from tqdm.contrib.concurrent import process_map\n",
    "\n",
    "from caption_extraction import extract_caption\n",
    "from caption_extraction import link_captions_to_figures\n",
    "\n",
    "import matplotlib.pyplot as plt\n",
    "import numpy as np\n",
    "import math\n",
    "\n",
    "from bert_score import score as bert_score\n",
    "import nltk\n",
    "nltk.download('wordnet')\n",
    "nltk.download('stopwords')\n",
    "nltk.download('punkt')\n",
    "\n",
    "# Ignore warnings\n",
    "import warnings\n",
    "warnings.filterwarnings('ignore')\n",
    "import logging\n",
    "logging.getLogger(\"pdfminer\").setLevel(logging.ERROR)\n"
   ]
  },
  {
   "cell_type": "markdown",
   "metadata": {},
   "source": [
    "**Auxiliary functions**"
   ]
  },
  {
   "cell_type": "code",
   "execution_count": 50,
   "metadata": {},
   "outputs": [],
   "source": [
    "def adjust_bbox_format(fig_loc,figname):\n",
    "    # figure, page, bbox\n",
    "    return  figname, fig_loc['p'], ( fig_loc['x0'],\n",
    "                                    fig_loc['y0'],\n",
    "                                    fig_loc['x1'],\n",
    "                                    fig_loc['y1'],\n",
    "                                    )\n",
    "\n",
    "def get_fig_name(caption):\n",
    "    caption = caption.lower()\n",
    "    caption = caption.replace(\"figure\",\"\")\n",
    "    caption = caption.replace(\"fig.\",\"\")\n",
    "    caption = caption.replace(\" \",\"\")\n",
    "    # Figure name is not present in the capion\n",
    "    if caption == \"\":\n",
    "        return \"\"\n",
    "    \n",
    "    char = caption[0]\n",
    "    fig_num = []\n",
    "    \n",
    "    while char.isdecimal():\n",
    "        fig_num.append(char)\n",
    "        caption =  caption[1:]\n",
    "        if len(caption) == 0:\n",
    "            break\n",
    "        char = caption[0]\n",
    "    # Figure name is not present in the capion\n",
    "    if len(fig_num) == 0:\n",
    "        return \"\"\n",
    "    return \"fig\"+\"\".join(fig_num)"
   ]
  },
  {
   "cell_type": "code",
   "execution_count": 3,
   "metadata": {},
   "outputs": [],
   "source": [
    "# Load caption-annotations\n",
    "with open(\"caption-annotation.json\", 'r') as fj:\n",
    "    caption_annotation = json.load(fj)"
   ]
  },
  {
   "cell_type": "markdown",
   "metadata": {},
   "source": [
    "# Making a test with just one sample"
   ]
  },
  {
   "cell_type": "markdown",
   "metadata": {},
   "source": [
    "To proceed, make sure to have the dataset at the root of this repository"
   ]
  },
  {
   "cell_type": "code",
   "execution_count": 4,
   "metadata": {},
   "outputs": [],
   "source": [
    "# Extract captions from the pdf-001 \n",
    "extracted_captions = extract_caption(caption_annotation[\"PDF-001\"]['pdf_path'])"
   ]
  },
  {
   "cell_type": "code",
   "execution_count": 5,
   "metadata": {},
   "outputs": [
    {
     "name": "stdout",
     "output_type": "stream",
     "text": [
      "Caption of figure 1 from PDF-001 located at page 4\n",
      "Extracted caption:\n",
      "  'FIGURE 1. Rgt2 undergoes endocytosis and subsequent vacuolar degradation in glucosestarved cells. A, ...'\n"
     ]
    }
   ],
   "source": [
    "print(f\"Caption of figure 1 from PDF-001 located at page 4\")\n",
    "print(f\"Extracted caption:\\n  '{extracted_captions[0][0][:100]} ...'\")"
   ]
  },
  {
   "cell_type": "markdown",
   "metadata": {},
   "source": [
    "### Check matching between extracted captions and its respective figures"
   ]
  },
  {
   "cell_type": "code",
   "execution_count": 6,
   "metadata": {},
   "outputs": [
    {
     "name": "stdout",
     "output_type": "stream",
     "text": [
      "Figure name: 'fig1''; Page located 4; Bbox [27, 46, 567, 505]\n",
      "Figure name: 'fig2''; Page located 5; Bbox [38, 46, 556, 525]\n",
      "Figure name: 'fig3''; Page located 6; Bbox [27, 46, 567, 366]\n",
      "Figure name: 'fig4''; Page located 7; Bbox [38, 45, 556, 491]\n",
      "Figure name: 'fig5''; Page located 8; Bbox [47, 45, 554, 464]\n",
      "Figure name: 'fig6''; Page located 9; Bbox [42, 50, 292, 305]\n"
     ]
    }
   ],
   "source": [
    "# retrieve information about all figures location and its real name\n",
    "annotated_cap_location = []\n",
    "for figname, item in caption_annotation['PDF-001']['original_captions'].items():\n",
    "    annotated_cap_location.append(adjust_bbox_format(item['fig_loc'],figname))\n",
    "\n",
    "for fig in annotated_cap_location:\n",
    "    print(f\"Figure name: '{fig[0]}''; Page located {fig[1]}; Bbox {fig[2:]}\")"
   ]
  },
  {
   "cell_type": "code",
   "execution_count": 7,
   "metadata": {},
   "outputs": [],
   "source": [
    "linked_captions = link_captions_to_figures(annotated_cap_location, extracted_captions)"
   ]
  },
  {
   "cell_type": "code",
   "execution_count": 8,
   "metadata": {},
   "outputs": [
    {
     "name": "stdout",
     "output_type": "stream",
     "text": [
      "Figure name from annotation: 'fig1' \n",
      "Figure name from linked extracted caption 'fig1'\n",
      "\n",
      "Figure name from annotation: 'fig2' \n",
      "Figure name from linked extracted caption 'fig2'\n",
      "\n",
      "Figure name from annotation: 'fig3' \n",
      "Figure name from linked extracted caption 'fig3'\n",
      "\n",
      "Figure name from annotation: 'fig4' \n",
      "Figure name from linked extracted caption 'fig4'\n",
      "\n",
      "Figure name from annotation: 'fig5' \n",
      "Figure name from linked extracted caption 'fig5'\n",
      "\n",
      "Figure name from annotation: 'fig6' \n",
      "Figure name from linked extracted caption 'fig6'\n",
      "\n"
     ]
    }
   ],
   "source": [
    "# check if the name of each figure match with the respective Figure\n",
    "for i in range(len(annotated_cap_location)):\n",
    "    print(f\"\"\"Figure name from annotation: '{annotated_cap_location[i][0]}' \n",
    "Figure name from linked extracted caption '{get_fig_name(linked_captions[i][0])}'\\n\"\"\")"
   ]
  },
  {
   "cell_type": "markdown",
   "metadata": {},
   "source": [
    "# Run Method"
   ]
  },
  {
   "cell_type": "code",
   "execution_count": null,
   "metadata": {},
   "outputs": [],
   "source": [
    "# This cell may take a while to execute\n",
    "def parallel_caption_extraction(pdf_info):\n",
    "    \n",
    "    # get pdf infos\n",
    "    pdf_id, pdf_path = pdf_info\n",
    "    \n",
    "    # try extract caption, if any erro occure\n",
    "    # return empty list\n",
    "    try:\n",
    "        result_extraction = extract_caption(pdf_path)\n",
    "    except KeyboardInterrupt:\n",
    "        raise\n",
    "    except:\n",
    "        result_extraction = []\n",
    "    \n",
    "    result_extraction = {pdf_id: result_extraction}\n",
    "    save_path =  f\"xcaps/{pdf_id}\"\n",
    "    os.makedirs(save_path,exist_ok=True)\n",
    "    save_path = f\"{save_path}/extracted_caption.json\"\n",
    "    with open(save_path, 'w') as js:\n",
    "        json.dump(result_extraction,js)\n",
    "\n",
    "pdfs = sorted(list(caption_annotation.keys()))\n",
    "pdfs = [(pdf,caption_annotation[pdf]['pdf_path']) for pdf in pdfs]\n",
    "r = process_map(parallel_caption_extraction, pdfs, max_workers=20)"
   ]
  },
  {
   "cell_type": "markdown",
   "metadata": {},
   "source": [
    "## Load result from xcaps"
   ]
  },
  {
   "cell_type": "code",
   "execution_count": 6,
   "metadata": {},
   "outputs": [],
   "source": [
    "x_captions = {}\n",
    "pdfs = sorted(list(caption_annotation.keys()))\n",
    "\n",
    "for pdf in pdfs:\n",
    "    filename = f\"xcaps/{pdf}/extracted_caption.json\"\n",
    "    \n",
    "    with open(filename,'r') as f:\n",
    "        result = json.load(f)\n",
    "        \n",
    "    x_captions[pdf] = { \"extracted_captions\": result[pdf]}"
   ]
  },
  {
   "cell_type": "markdown",
   "metadata": {},
   "source": [
    "# Evaluate Caption Match"
   ]
  },
  {
   "cell_type": "code",
   "execution_count": 45,
   "metadata": {},
   "outputs": [],
   "source": [
    "def evalute_caption_matching(annotated_caption, extracted_caption):\n",
    "    \n",
    "    # retrieve information about pdf figures location and figures real name\n",
    "    annotated_cap_location = []\n",
    "    for figname, item in annotated_caption.items():\n",
    "        annotated_cap_location.append(adjust_bbox_format(item['fig_loc'],figname))\n",
    "    \n",
    "    # Link each caption with a pdf figure:\n",
    "    linked_captions = link_captions_to_figures(annotated_cap_location, extracted_caption,testing=True)\n",
    "\n",
    "    # if caption was linked right: 1\n",
    "    # otherwise: 0\n",
    "    score = []\n",
    "    for i in range(len(annotated_cap_location)):\n",
    "        if annotated_cap_location[i][0] == get_fig_name(linked_captions[i][0]):\n",
    "            score.append(1)\n",
    "        else:\n",
    "            score.append(0)\n",
    "    return score"
   ]
  },
  {
   "cell_type": "code",
   "execution_count": 62,
   "metadata": {
    "scrolled": true
   },
   "outputs": [],
   "source": [
    "pdfs = sorted(list(caption_annotation.keys()))\n",
    "matching_scores = []\n",
    "for pdf in pdfs:\n",
    "    score = evalute_caption_matching(caption_annotation[pdf]['original_captions'],\n",
    "                                     x_captions[pdf]['extracted_captions'])\n",
    "    \n",
    "    \n",
    "    # Get number of annotated captions and extracted captions\n",
    "    n_annotated_cap = len(caption_annotation[pdf]['original_captions'])\n",
    "    n_x_cap = len(x_captions[pdf]['extracted_captions'])\n",
    "    # PDF-Score = number of matching / max(number of annotations, number of extracted captions )\n",
    "    pdf_score = np.sum(score) / max(n_x_cap,n_annotated_cap)\n",
    "    matching_scores.append(pdf_score)"
   ]
  },
  {
   "cell_type": "markdown",
   "metadata": {},
   "source": [
    "# Plot Result per PDF"
   ]
  },
  {
   "cell_type": "code",
   "execution_count": 71,
   "metadata": {},
   "outputs": [
    {
     "data": {
      "image/png": "[encoded data removed]",
      "text/plain": [
       "<matplotlib.figure.Figure at 0x7f8407239668>"
      ]
     },
     "metadata": {
      "needs_background": "light"
     },
     "output_type": "display_data"
    },
    {
     "name": "stdout",
     "output_type": "stream",
     "text": [
      "Score: 0.83 +/- 0.26\n"
     ]
    }
   ],
   "source": [
    "\n",
    "y = np.array(matching_scores)\n",
    "x = np.arange(len(matching_scores))\n",
    "\n",
    "plt.figure(figsize=(15,5))\n",
    "# plt.hist(y, bins=np.arange(0,100,1),facecolor='#266DD3',edgecolor='black')\n",
    "plt.axhline(y.mean(), color='#CFB3CD', linestyle='dashed', linewidth=3,label=f'Average Score: {y.mean():.2f}')\n",
    "plt.bar(x, matching_scores, facecolor='#266DD3',edgecolor='black')\n",
    "# plt.scatter(x,means)\n",
    "plt.title(\"Result Matching per PDF\")\n",
    "plt.xlabel('PDF Index')\n",
    "plt.ylabel(\"Matching Scores\")\n",
    "plt.legend(fancybox=True, framealpha=0.6, borderpad=1)\n",
    "\n",
    "plt.show()\n",
    "\n",
    "print(f\"Score: {y.mean():.2f} +/- {y.std():.2f}\")"
   ]
  },
  {
   "cell_type": "markdown",
   "metadata": {},
   "source": [
    "# Evaluate Text Similarity"
   ]
  },
  {
   "cell_type": "code",
   "execution_count": 104,
   "metadata": {},
   "outputs": [],
   "source": [
    "def evalute_caption_text(annotated_caption, extracted_caption):\n",
    "    \n",
    "    # retrieve information about pdf figures location and figures real name\n",
    "    annotated_cap_location = []\n",
    "    for figname, item in annotated_caption.items():\n",
    "        annotated_cap_location.append(adjust_bbox_format(item['fig_loc'],figname))\n",
    "    \n",
    "    # Link each caption with a pdf figure:\n",
    "    linked_captions = link_captions_to_figures(annotated_cap_location, extracted_caption,testing=True)\n",
    "    \n",
    "    # Set candidate and references\n",
    "    cands = []\n",
    "    refs = []\n",
    "    for i in range(len(annotated_cap_location)):\n",
    "        # Only evalutate extracted captions that match with the right figure\n",
    "        if annotated_cap_location[i][0] == get_fig_name(linked_captions[i][0]):\n",
    "            \n",
    "            # Add to reference the annotated caption \n",
    "            figname = annotated_cap_location[i][0]\n",
    "            refs.append(annotated_caption[figname])\n",
    "            \n",
    "            # Add to cand the extracted caption\n",
    "            cands.append(linked_captions[i][0])\n",
    "    \n",
    "    if cands != []:\n",
    "        pdf_score = bert_score(cands,refs,lang='en-sci',nthreads=20)\n",
    "        # mean of all F1-score\n",
    "        pdf_score = pdf_score[2].mean().item()\n",
    "        return pdf_score\n",
    "    else:\n",
    "        return 0"
   ]
  },
  {
   "cell_type": "code",
   "execution_count": 105,
   "metadata": {},
   "outputs": [
    {
     "data": {
      "application/vnd.jupyter.widget-view+json": {
       "model_id": "da13537f07a04fe38247155634b39972",
       "version_major": 2,
       "version_minor": 0
      },
      "text/plain": [
       "HBox(children=(FloatProgress(value=0.0, max=315.0), HTML(value='')))"
      ]
     },
     "metadata": {},
     "output_type": "display_data"
    },
    {
     "name": "stdout",
     "output_type": "stream",
     "text": [
      "\n"
     ]
    }
   ],
   "source": [
    "pdfs = sorted(list(caption_annotation.keys()))\n",
    "pdf_bert_score = []\n",
    "for pdf in tqdm(pdfs):\n",
    "    pdf_bert_score.append(evalute_caption_text(caption_annotation[pdf]['original_captions'],\n",
    "                                     x_captions[pdf]['extracted_captions']))"
   ]
  },
  {
   "cell_type": "markdown",
   "metadata": {},
   "source": [
    "# Plot Bert Score"
   ]
  },
  {
   "cell_type": "code",
   "execution_count": 106,
   "metadata": {},
   "outputs": [
    {
     "data": {
      "image/png": "[encoded data removed]",
      "text/plain": [
       "<matplotlib.figure.Figure at 0x7f83b85f7c18>"
      ]
     },
     "metadata": {
      "needs_background": "light"
     },
     "output_type": "display_data"
    },
    {
     "name": "stdout",
     "output_type": "stream",
     "text": [
      "Score: 0.40 +/- 0.11\n"
     ]
    }
   ],
   "source": [
    "y = np.array(pdf_bert_score)\n",
    "x = np.arange(len(pdf_bert_score))\n",
    "\n",
    "plt.figure(figsize=(15,5))\n",
    "# plt.hist(y, bins=np.arange(0,100,1),facecolor='#266DD3',edgecolor='black')\n",
    "plt.axhline(y.mean(), color='#CFB3CD', linestyle='dashed', linewidth=3,label=f'Average Score: {y.mean():.2f}')\n",
    "plt.bar(x, pdf_bert_score, facecolor='#266DD3',edgecolor='black')\n",
    "# plt.scatter(x,means)\n",
    "plt.title(\"Result BERTScore per PDF\")\n",
    "plt.xlabel('PDF Index')\n",
    "plt.ylabel(\"BERTScore - F1\")\n",
    "plt.legend(fancybox=True, framealpha=0.6, borderpad=1)\n",
    "\n",
    "plt.show()\n",
    "\n",
    "print(f\"Score: {y.mean():.2f} +/- {y.std():.2f}\")"
   ]
  }
 ],
 "metadata": {
  "kernelspec": {
   "display_name": "Python 3",
   "language": "python",
   "name": "python3"
  },
  "language_info": {
   "codemirror_mode": {
    "name": "ipython",
    "version": 3
   },
   "file_extension": ".py",
   "mimetype": "text/x-python",
   "name": "python",
   "nbconvert_exporter": "python",
   "pygments_lexer": "ipython3",
   "version": "3.6.10"
  }
 },
 "nbformat": 4,
 "nbformat_minor": 4
}
